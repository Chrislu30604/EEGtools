{
 "cells": [
  {
   "cell_type": "markdown",
   "metadata": {
    "ExecuteTime": {
     "end_time": "2018-11-09T12:56:16.095064Z",
     "start_time": "2018-11-09T12:56:16.090985Z"
    }
   },
   "source": [
    "# Wavelet Packet Decomposition And Tensorflow"
   ]
  },
  {
   "cell_type": "markdown",
   "metadata": {},
   "source": [
    "## Preprocessing"
   ]
  },
  {
   "cell_type": "markdown",
   "metadata": {},
   "source": [
    "### Handle datasets"
   ]
  },
  {
   "cell_type": "code",
   "execution_count": 2,
   "metadata": {
    "ExecuteTime": {
     "end_time": "2018-11-09T14:40:59.898497Z",
     "start_time": "2018-11-09T14:40:59.887434Z"
    }
   },
   "outputs": [
    {
     "ename": "SyntaxError",
     "evalue": "invalid syntax (<ipython-input-2-7f8a360df79a>, line 7)",
     "output_type": "error",
     "traceback": [
      "\u001b[0;36m  File \u001b[0;32m\"<ipython-input-2-7f8a360df79a>\"\u001b[0;36m, line \u001b[0;32m7\u001b[0m\n\u001b[0;31m    with open(path)\u001b[0m\n\u001b[0m                   ^\u001b[0m\n\u001b[0;31mSyntaxError\u001b[0m\u001b[0;31m:\u001b[0m invalid syntax\n"
     ]
    }
   ],
   "source": [
    "from scipy.io import loadmat\n",
    "import os\n",
    "import numpy as np\n",
    "\n",
    "SAMPLE_RATE = 250\n",
    "path = \"./MI_ST/A01T.mat\"\n",
    "with open(path)\n",
    "MAX_SAMPLE = 19680  # cut the data to algin\n",
    "NUM_OF_CHANNEL = 5\n",
    "X = np.array([])\n",
    "counter = 0\n",
    "exclude = [\"R01\", \"R02\", \"R03\", \"R05\", \"R07\", \"R09\", \"R11\", \"R13\", \"R15\"]\n",
    "CURRENT_DIR = os.getcwd()\n",
    "\n",
    "all_dirs = sorted(os.listdir('MI'))\n",
    "for dirs in all_dirs:\n",
    "    for j in sorted(os.listdir(os.path.join('MI', dirs))):\n",
    "        path = os.path.join(CURRENT_DIR , 'MI', dirs, j)\n",
    "        if j[4:7] not in exclude:\n",
    "            with pyedflib.EdfReader(path) as f:\n",
    "                n = f.signals_in_file\n",
    "                signal_labels = f.getSignalLabels()\n",
    "                sigbufs = np.zeros((MAX_SAMPLE, NUM_OF_CHANNEL))\n",
    "                for i in np.arange(NUM_OF_CHANNEL):\n",
    "                    sigbufs[:, i] = f.readSignal(i+7)[:MAX_SAMPLE]\n",
    "                X = np.append(X, sigbufs)\n",
    "            counter += 1\n",
    "            if counter >= 6*56:\n",
    "                break\n",
    "    if counter >= 6*56:\n",
    "        break"
   ]
  },
  {
   "cell_type": "code",
   "execution_count": 52,
   "metadata": {
    "ExecuteTime": {
     "end_time": "2018-11-11T08:21:21.804803Z",
     "start_time": "2018-11-11T08:21:21.797836Z"
    }
   },
   "outputs": [
    {
     "name": "stdout",
     "output_type": "stream",
     "text": [
      "[[ 0.33333333  0.66666667 -0.66666667]\n",
      " [ 0.66666667  0.33333333  0.66666667]\n",
      " [-0.66666667  0.66666667  0.33333333]]\n"
     ]
    }
   ],
   "source": [
    "import numpy as np\n",
    "from numpy import sqrt\n",
    "A = np.array([[0 ,1],\n",
    "              [1, 1],\n",
    "              [1, 0]])\n",
    "\n",
    "At = np.linalg.inv(np.matmul(np.transpose(A), A))\n",
    "\n",
    "H = np.matmul(A, At)\n",
    "P = np.matmul(H, np.transpose(A))\n",
    "print(2*P - np.identity(3))"
   ]
  },
  {
   "cell_type": "code",
   "execution_count": 80,
   "metadata": {
    "ExecuteTime": {
     "end_time": "2018-11-11T08:58:51.797231Z",
     "start_time": "2018-11-11T08:58:51.787255Z"
    }
   },
   "outputs": [
    {
     "name": "stdout",
     "output_type": "stream",
     "text": [
      "[[24 42]\n",
      " [42 74]]\n",
      "[[ 1.83333333  0.16666667 -1.66666667]\n",
      " [-1.          0.          1.        ]]\n"
     ]
    },
    {
     "data": {
      "text/plain": [
       "array([1.33333333, 0.        ])"
      ]
     },
     "execution_count": 80,
     "metadata": {},
     "output_type": "execute_result"
    }
   ],
   "source": [
    "A = np.array([[2, 3], [4, 7], [2, 4]])\n",
    "At = np.matmul(np.transpose(A), A)\n",
    "print(At)\n",
    "Ai = np.linalg.inv(At)\n",
    "b = np.array([3, 5, 3])\n",
    "P = np.dot(Ai, np.transpose(A))\n",
    "\n",
    "li = np.dot(P, A)\n",
    "print(P)\n",
    "x = np.dot(P, np.transpose(b))\n",
    "x"
   ]
  },
  {
   "cell_type": "code",
   "execution_count": 87,
   "metadata": {
    "ExecuteTime": {
     "end_time": "2018-11-11T12:36:01.533771Z",
     "start_time": "2018-11-11T12:36:01.273826Z"
    }
   },
   "outputs": [
    {
     "name": "stdout",
     "output_type": "stream",
     "text": [
      "[[-0.57735027 -0.25819889 -0.77459667]\n",
      " [ 0.57735027 -0.51639778 -0.25819889]\n",
      " [-0.          0.77459667 -0.25819889]\n",
      " [-0.57735027 -0.25819889  0.51639778]]\n",
      "[[-1.73205081  0.57735027  0.57735027]\n",
      " [ 0.         -1.29099445  1.03279556]\n",
      " [ 0.          0.         -0.77459667]]\n"
     ]
    }
   ],
   "source": [
    "from numpy import pi, power\n",
    "\n",
    "B = np.array([[1, 0, 0], [-1, 1, 0],[0, -1, 1], [1, 0, -1]])\n",
    "\n",
    "q, r = np.linalg.qr(B)\n",
    "print(q)\n",
    "print(r)"
   ]
  },
  {
   "cell_type": "code",
   "execution_count": 90,
   "metadata": {
    "ExecuteTime": {
     "end_time": "2018-11-12T10:02:37.410098Z",
     "start_time": "2018-11-12T10:02:37.396136Z"
    }
   },
   "outputs": [
    {
     "ename": "LinAlgError",
     "evalue": "Singular matrix",
     "output_type": "error",
     "traceback": [
      "\u001b[0;31m---------------------------------------------------------------------------\u001b[0m",
      "\u001b[0;31mLinAlgError\u001b[0m                               Traceback (most recent call last)",
      "\u001b[0;32m<ipython-input-90-c1eb0ea1968f>\u001b[0m in \u001b[0;36m<module>\u001b[0;34m()\u001b[0m\n\u001b[1;32m      4\u001b[0m \u001b[0mBt\u001b[0m \u001b[0;34m=\u001b[0m \u001b[0mnp\u001b[0m\u001b[0;34m.\u001b[0m\u001b[0mtranspose\u001b[0m\u001b[0;34m(\u001b[0m\u001b[0mB\u001b[0m\u001b[0;34m)\u001b[0m\u001b[0;34m\u001b[0m\u001b[0m\n\u001b[1;32m      5\u001b[0m \u001b[0mBe\u001b[0m \u001b[0;34m=\u001b[0m \u001b[0mnp\u001b[0m\u001b[0;34m.\u001b[0m\u001b[0mdot\u001b[0m\u001b[0;34m(\u001b[0m\u001b[0mBt\u001b[0m\u001b[0;34m,\u001b[0m \u001b[0mB\u001b[0m\u001b[0;34m)\u001b[0m\u001b[0;34m\u001b[0m\u001b[0m\n\u001b[0;32m----> 6\u001b[0;31m \u001b[0mnp\u001b[0m\u001b[0;34m.\u001b[0m\u001b[0mlinalg\u001b[0m\u001b[0;34m.\u001b[0m\u001b[0minv\u001b[0m\u001b[0;34m(\u001b[0m\u001b[0mBe\u001b[0m\u001b[0;34m)\u001b[0m\u001b[0;34m\u001b[0m\u001b[0m\n\u001b[0m",
      "\u001b[0;32m~/anaconda3/lib/python3.6/site-packages/numpy/linalg/linalg.py\u001b[0m in \u001b[0;36minv\u001b[0;34m(a)\u001b[0m\n\u001b[1;32m    526\u001b[0m     \u001b[0msignature\u001b[0m \u001b[0;34m=\u001b[0m \u001b[0;34m'D->D'\u001b[0m \u001b[0;32mif\u001b[0m \u001b[0misComplexType\u001b[0m\u001b[0;34m(\u001b[0m\u001b[0mt\u001b[0m\u001b[0;34m)\u001b[0m \u001b[0;32melse\u001b[0m \u001b[0;34m'd->d'\u001b[0m\u001b[0;34m\u001b[0m\u001b[0m\n\u001b[1;32m    527\u001b[0m     \u001b[0mextobj\u001b[0m \u001b[0;34m=\u001b[0m \u001b[0mget_linalg_error_extobj\u001b[0m\u001b[0;34m(\u001b[0m\u001b[0m_raise_linalgerror_singular\u001b[0m\u001b[0;34m)\u001b[0m\u001b[0;34m\u001b[0m\u001b[0m\n\u001b[0;32m--> 528\u001b[0;31m     \u001b[0mainv\u001b[0m \u001b[0;34m=\u001b[0m \u001b[0m_umath_linalg\u001b[0m\u001b[0;34m.\u001b[0m\u001b[0minv\u001b[0m\u001b[0;34m(\u001b[0m\u001b[0ma\u001b[0m\u001b[0;34m,\u001b[0m \u001b[0msignature\u001b[0m\u001b[0;34m=\u001b[0m\u001b[0msignature\u001b[0m\u001b[0;34m,\u001b[0m \u001b[0mextobj\u001b[0m\u001b[0;34m=\u001b[0m\u001b[0mextobj\u001b[0m\u001b[0;34m)\u001b[0m\u001b[0;34m\u001b[0m\u001b[0m\n\u001b[0m\u001b[1;32m    529\u001b[0m     \u001b[0;32mreturn\u001b[0m \u001b[0mwrap\u001b[0m\u001b[0;34m(\u001b[0m\u001b[0mainv\u001b[0m\u001b[0;34m.\u001b[0m\u001b[0mastype\u001b[0m\u001b[0;34m(\u001b[0m\u001b[0mresult_t\u001b[0m\u001b[0;34m,\u001b[0m \u001b[0mcopy\u001b[0m\u001b[0;34m=\u001b[0m\u001b[0;32mFalse\u001b[0m\u001b[0;34m)\u001b[0m\u001b[0;34m)\u001b[0m\u001b[0;34m\u001b[0m\u001b[0m\n\u001b[1;32m    530\u001b[0m \u001b[0;34m\u001b[0m\u001b[0m\n",
      "\u001b[0;32m~/anaconda3/lib/python3.6/site-packages/numpy/linalg/linalg.py\u001b[0m in \u001b[0;36m_raise_linalgerror_singular\u001b[0;34m(err, flag)\u001b[0m\n\u001b[1;32m     87\u001b[0m \u001b[0;34m\u001b[0m\u001b[0m\n\u001b[1;32m     88\u001b[0m \u001b[0;32mdef\u001b[0m \u001b[0m_raise_linalgerror_singular\u001b[0m\u001b[0;34m(\u001b[0m\u001b[0merr\u001b[0m\u001b[0;34m,\u001b[0m \u001b[0mflag\u001b[0m\u001b[0;34m)\u001b[0m\u001b[0;34m:\u001b[0m\u001b[0;34m\u001b[0m\u001b[0m\n\u001b[0;32m---> 89\u001b[0;31m     \u001b[0;32mraise\u001b[0m \u001b[0mLinAlgError\u001b[0m\u001b[0;34m(\u001b[0m\u001b[0;34m\"Singular matrix\"\u001b[0m\u001b[0;34m)\u001b[0m\u001b[0;34m\u001b[0m\u001b[0m\n\u001b[0m\u001b[1;32m     90\u001b[0m \u001b[0;34m\u001b[0m\u001b[0m\n\u001b[1;32m     91\u001b[0m \u001b[0;32mdef\u001b[0m \u001b[0m_raise_linalgerror_nonposdef\u001b[0m\u001b[0;34m(\u001b[0m\u001b[0merr\u001b[0m\u001b[0;34m,\u001b[0m \u001b[0mflag\u001b[0m\u001b[0;34m)\u001b[0m\u001b[0;34m:\u001b[0m\u001b[0;34m\u001b[0m\u001b[0m\n",
      "\u001b[0;31mLinAlgError\u001b[0m: Singular matrix"
     ]
    }
   ],
   "source": [
    "B = np.array([[1, -1, 0, 0], [1, -1, 0, 0] ,[1, 0, -1, 0], [1, 0, 0, -1], \n",
    "              [0, 1, -1, 0], [0, 1, 0, -1], [0, 0, 1, -1]])\n",
    "\n",
    "Bt = np.transpose(B)\n",
    "Be = np.dot(Bt, B)\n",
    "np.linalg.inv(Be)"
   ]
  },
  {
   "cell_type": "code",
   "execution_count": null,
   "metadata": {},
   "outputs": [],
   "source": []
  }
 ],
 "metadata": {
  "hide_input": false,
  "kernelspec": {
   "display_name": "Python 3",
   "language": "python",
   "name": "python3"
  },
  "language_info": {
   "codemirror_mode": {
    "name": "ipython",
    "version": 3
   },
   "file_extension": ".py",
   "mimetype": "text/x-python",
   "name": "python",
   "nbconvert_exporter": "python",
   "pygments_lexer": "ipython3",
   "version": "3.6.5"
  }
 },
 "nbformat": 4,
 "nbformat_minor": 2
}
